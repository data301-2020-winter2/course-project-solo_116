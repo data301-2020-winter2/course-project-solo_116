{
 "cells": [
  {
   "cell_type": "markdown",
   "id": "hollywood-circumstances",
   "metadata": {},
   "source": [
    "## M2 Task5:"
   ]
  },
  {
   "cell_type": "markdown",
   "id": "embedded-easter",
   "metadata": {},
   "source": [
    "### From EDA, we can tell that the game is fair; both sides have about the same chance to win the game at start.\n",
    "### RQ1: Does the team takes the first blood has more chance to win?\n",
    "### RQ2: Does the team takes the first Baron has more chance to win?(Keep in mind that many games end without first Baron)\n",
    "### RQ3: Does the team takes the first dragon has more chance to win?\n",
    "### RQ4: What is relationship between team KDA and chance to win?\n",
    "### RQ5: What is relationship between two team's total champion damage difference and chance to win?\n",
    "### RQ6: What is relationship between two team's total heal difference and chance to win?"
   ]
  },
  {
   "cell_type": "code",
   "execution_count": 1,
   "id": "interstate-comparative",
   "metadata": {},
   "outputs": [
    {
     "data": {
      "text/html": [
       "<div>\n",
       "<style scoped>\n",
       "    .dataframe tbody tr th:only-of-type {\n",
       "        vertical-align: middle;\n",
       "    }\n",
       "\n",
       "    .dataframe tbody tr th {\n",
       "        vertical-align: top;\n",
       "    }\n",
       "\n",
       "    .dataframe thead th {\n",
       "        text-align: right;\n",
       "    }\n",
       "</style>\n",
       "<table border=\"1\" class=\"dataframe\">\n",
       "  <thead>\n",
       "    <tr style=\"text-align: right;\">\n",
       "      <th></th>\n",
       "      <th>duration</th>\n",
       "      <th>blueDragonKills</th>\n",
       "      <th>blueBaronKills</th>\n",
       "      <th>blueTowerKills</th>\n",
       "      <th>blueInhibitorKills</th>\n",
       "      <th>blueWardPlaced</th>\n",
       "      <th>blueWardkills</th>\n",
       "      <th>blueChampionDamageDealt</th>\n",
       "      <th>blueTotalGold</th>\n",
       "      <th>blueTotalMinionKills</th>\n",
       "      <th>...</th>\n",
       "      <th>redTotalHeal</th>\n",
       "      <th>redObjectDamageDealt</th>\n",
       "      <th>blueKDA</th>\n",
       "      <th>redKDA</th>\n",
       "      <th>teamFirstBlood</th>\n",
       "      <th>teamFirstTower</th>\n",
       "      <th>teamFirstBaron</th>\n",
       "      <th>teamFirstDragon</th>\n",
       "      <th>teamFirstInhibitor</th>\n",
       "      <th>teamWins</th>\n",
       "    </tr>\n",
       "  </thead>\n",
       "  <tbody>\n",
       "    <tr>\n",
       "      <th>0</th>\n",
       "      <td>1429</td>\n",
       "      <td>0</td>\n",
       "      <td>0</td>\n",
       "      <td>4</td>\n",
       "      <td>0</td>\n",
       "      <td>75</td>\n",
       "      <td>33</td>\n",
       "      <td>42979</td>\n",
       "      <td>41910</td>\n",
       "      <td>646</td>\n",
       "      <td>...</td>\n",
       "      <td>12916</td>\n",
       "      <td>26338</td>\n",
       "      <td>1.052632</td>\n",
       "      <td>9.142857</td>\n",
       "      <td>blue</td>\n",
       "      <td>blue</td>\n",
       "      <td>noTeam</td>\n",
       "      <td>red</td>\n",
       "      <td>noTeam</td>\n",
       "      <td>red</td>\n",
       "    </tr>\n",
       "    <tr>\n",
       "      <th>1</th>\n",
       "      <td>1313</td>\n",
       "      <td>0</td>\n",
       "      <td>0</td>\n",
       "      <td>3</td>\n",
       "      <td>0</td>\n",
       "      <td>45</td>\n",
       "      <td>13</td>\n",
       "      <td>36087</td>\n",
       "      <td>35880</td>\n",
       "      <td>563</td>\n",
       "      <td>...</td>\n",
       "      <td>12252</td>\n",
       "      <td>29828</td>\n",
       "      <td>0.681818</td>\n",
       "      <td>10.833333</td>\n",
       "      <td>red</td>\n",
       "      <td>blue</td>\n",
       "      <td>noTeam</td>\n",
       "      <td>red</td>\n",
       "      <td>noTeam</td>\n",
       "      <td>red</td>\n",
       "    </tr>\n",
       "    <tr>\n",
       "      <th>2</th>\n",
       "      <td>1660</td>\n",
       "      <td>1</td>\n",
       "      <td>1</td>\n",
       "      <td>9</td>\n",
       "      <td>2</td>\n",
       "      <td>66</td>\n",
       "      <td>31</td>\n",
       "      <td>64708</td>\n",
       "      <td>58214</td>\n",
       "      <td>651</td>\n",
       "      <td>...</td>\n",
       "      <td>17005</td>\n",
       "      <td>37066</td>\n",
       "      <td>7.000000</td>\n",
       "      <td>1.166667</td>\n",
       "      <td>red</td>\n",
       "      <td>red</td>\n",
       "      <td>blue</td>\n",
       "      <td>blue</td>\n",
       "      <td>blue</td>\n",
       "      <td>blue</td>\n",
       "    </tr>\n",
       "    <tr>\n",
       "      <th>3</th>\n",
       "      <td>984</td>\n",
       "      <td>2</td>\n",
       "      <td>0</td>\n",
       "      <td>5</td>\n",
       "      <td>0</td>\n",
       "      <td>55</td>\n",
       "      <td>9</td>\n",
       "      <td>45772</td>\n",
       "      <td>36545</td>\n",
       "      <td>402</td>\n",
       "      <td>...</td>\n",
       "      <td>10499</td>\n",
       "      <td>3085</td>\n",
       "      <td>20.000000</td>\n",
       "      <td>0.307692</td>\n",
       "      <td>blue</td>\n",
       "      <td>blue</td>\n",
       "      <td>noTeam</td>\n",
       "      <td>blue</td>\n",
       "      <td>noTeam</td>\n",
       "      <td>blue</td>\n",
       "    </tr>\n",
       "    <tr>\n",
       "      <th>4</th>\n",
       "      <td>1437</td>\n",
       "      <td>2</td>\n",
       "      <td>0</td>\n",
       "      <td>3</td>\n",
       "      <td>0</td>\n",
       "      <td>75</td>\n",
       "      <td>23</td>\n",
       "      <td>79501</td>\n",
       "      <td>42395</td>\n",
       "      <td>528</td>\n",
       "      <td>...</td>\n",
       "      <td>47523</td>\n",
       "      <td>47150</td>\n",
       "      <td>1.708333</td>\n",
       "      <td>3.263158</td>\n",
       "      <td>blue</td>\n",
       "      <td>blue</td>\n",
       "      <td>noTeam</td>\n",
       "      <td>blue</td>\n",
       "      <td>noTeam</td>\n",
       "      <td>red</td>\n",
       "    </tr>\n",
       "  </tbody>\n",
       "</table>\n",
       "<p>5 rows × 35 columns</p>\n",
       "</div>"
      ],
      "text/plain": [
       "   duration  blueDragonKills  blueBaronKills  blueTowerKills  \\\n",
       "0      1429                0               0               4   \n",
       "1      1313                0               0               3   \n",
       "2      1660                1               1               9   \n",
       "3       984                2               0               5   \n",
       "4      1437                2               0               3   \n",
       "\n",
       "   blueInhibitorKills  blueWardPlaced  blueWardkills  blueChampionDamageDealt  \\\n",
       "0                   0              75             33                    42979   \n",
       "1                   0              45             13                    36087   \n",
       "2                   2              66             31                    64708   \n",
       "3                   0              55              9                    45772   \n",
       "4                   0              75             23                    79501   \n",
       "\n",
       "   blueTotalGold  blueTotalMinionKills  ...  redTotalHeal  \\\n",
       "0          41910                   646  ...         12916   \n",
       "1          35880                   563  ...         12252   \n",
       "2          58214                   651  ...         17005   \n",
       "3          36545                   402  ...         10499   \n",
       "4          42395                   528  ...         47523   \n",
       "\n",
       "   redObjectDamageDealt    blueKDA     redKDA  teamFirstBlood  teamFirstTower  \\\n",
       "0                 26338   1.052632   9.142857            blue            blue   \n",
       "1                 29828   0.681818  10.833333             red            blue   \n",
       "2                 37066   7.000000   1.166667             red             red   \n",
       "3                  3085  20.000000   0.307692            blue            blue   \n",
       "4                 47150   1.708333   3.263158            blue            blue   \n",
       "\n",
       "   teamFirstBaron  teamFirstDragon  teamFirstInhibitor  teamWins  \n",
       "0          noTeam              red              noTeam       red  \n",
       "1          noTeam              red              noTeam       red  \n",
       "2            blue             blue                blue      blue  \n",
       "3          noTeam             blue              noTeam      blue  \n",
       "4          noTeam             blue              noTeam       red  \n",
       "\n",
       "[5 rows x 35 columns]"
      ]
     },
     "execution_count": 1,
     "metadata": {},
     "output_type": "execute_result"
    }
   ],
   "source": [
    "import pandas as pd\n",
    "import numpy as np\n",
    "import matplotlib.pyplot as plt\n",
    "import seaborn as sns\n",
    "\n",
    "from scripts import project_functions \n",
    "df = project_functions.load_and_process('../data/raw/Master_Ranked_Games.csv')\n",
    "df.head()"
   ]
  },
  {
   "cell_type": "code",
   "execution_count": 2,
   "id": "precise-anderson",
   "metadata": {},
   "outputs": [
    {
     "data": {
      "text/plain": [
       "Text(0, 0.5, '')"
      ]
     },
     "execution_count": 2,
     "metadata": {},
     "output_type": "execute_result"
    },
    {
     "data": {
      "image/png": "[encoded data removed]",
      "text/plain": [
       "<Figure size 432x288 with 1 Axes>"
      ]
     },
     "metadata": {
      "needs_background": "light"
     },
     "output_type": "display_data"
    }
   ],
   "source": [
    "df1 = df.assign(temp1= lambda x: np.where(x.teamFirstBlood==x.teamWins,True,False))\n",
    "sns.countplot(data=df1, y='temp1').set_title('Team with first blood wins')\n",
    "plt.ylabel('')"
   ]
  },
  {
   "cell_type": "markdown",
   "id": "numeric-genetics",
   "metadata": {},
   "source": [
    "#### Team with the first blood do have a clear more times to win the game. But the chance doesn't differ **very** much."
   ]
  },
  {
   "cell_type": "markdown",
   "id": "medium-lingerie",
   "metadata": {},
   "source": [
    " "
   ]
  },
  {
   "cell_type": "code",
   "execution_count": 5,
   "id": "honey-compilation",
   "metadata": {},
   "outputs": [
    {
     "data": {
      "text/plain": [
       "Text(0, 0.5, '')"
      ]
     },
     "execution_count": 5,
     "metadata": {},
     "output_type": "execute_result"
    },
    {
     "data": {
      "image/png": "[encoded data removed]",
      "text/plain": [
       "<Figure size 432x288 with 1 Axes>"
      ]
     },
     "metadata": {
      "needs_background": "light"
     },
     "output_type": "display_data"
    }
   ],
   "source": [
    "df2 = df.assign(temp2= lambda x: np.where((x.teamFirstBaron!='noTeam')&(x.teamFirstBaron==x.teamWins),\n",
    "                                          'True',np.where((x.teamFirstBaron!='noTeam'),'False','noTeam')))\n",
    "sns.countplot(data=df2, y='temp2').set_title('Team with first Baron wins')\n",
    "plt.ylabel('')"
   ]
  },
  {
   "cell_type": "markdown",
   "id": "nearby-selection",
   "metadata": {},
   "source": [
    "#### According to the plot, if a team takes the first Baron, it is very likely to win the game. It may either because the 'better' team is easier to get first Baron or the first Baron gives that team very strong buff. But the relationship exists anyway."
   ]
  },
  {
   "cell_type": "markdown",
   "id": "infinite-collector",
   "metadata": {},
   "source": [
    " "
   ]
  },
  {
   "cell_type": "code",
   "execution_count": 7,
   "id": "conditional-example",
   "metadata": {},
   "outputs": [
    {
     "data": {
      "text/plain": [
       "Text(0, 0.5, '')"
      ]
     },
     "execution_count": 7,
     "metadata": {},
     "output_type": "execute_result"
    },
    {
     "data": {
      "image/png": "[encoded data removed]",
      "text/plain": [
       "<Figure size 432x288 with 1 Axes>"
      ]
     },
     "metadata": {
      "needs_background": "light"
     },
     "output_type": "display_data"
    }
   ],
   "source": [
    "df3 = df.assign(temp3= lambda x: np.where((x.teamFirstDragon!='noTeam')&(x.teamFirstDragon==x.teamWins),\n",
    "                                          'True',np.where((x.teamFirstDragon!='noTeam'),'False','noTeam')))\n",
    "sns.countplot(data=df3, y='temp3').set_title('Team with first dragon wins')\n",
    "plt.ylabel('')"
   ]
  },
  {
   "cell_type": "markdown",
   "id": "opposite-porter",
   "metadata": {},
   "source": [
    "#### According to the plot, if a team takes the first dragon, it is also more likely to win the game, but the chance difference is smaller than the \"first Baron's.\" This one's is about 5.2/3 where first Baron is about 4.4/0.9 and first blood is about 5.2/3.5. "
   ]
  },
  {
   "cell_type": "markdown",
   "id": "universal-seventh",
   "metadata": {},
   "source": [
    " "
   ]
  },
  {
   "cell_type": "code",
   "execution_count": 41,
   "id": "widespread-teens",
   "metadata": {},
   "outputs": [
    {
     "data": {
      "text/plain": [
       "<seaborn.axisgrid.FacetGrid at 0x27a012ad730>"
      ]
     },
     "execution_count": 41,
     "metadata": {},
     "output_type": "execute_result"
    },
    {
     "data": {
      "image/png": "[encoded data removed]",
      "text/plain": [
       "<Figure size 1080x360 with 1 Axes>"
      ]
     },
     "metadata": {
      "needs_background": "light"
     },
     "output_type": "display_data"
    }
   ],
   "source": [
    "sns.displot(df, x=\"blueKDA\", y=\"teamWins\",aspect=3)"
   ]
  },
  {
   "cell_type": "code",
   "execution_count": 42,
   "id": "psychological-spring",
   "metadata": {},
   "outputs": [
    {
     "data": {
      "text/plain": [
       "<seaborn.axisgrid.FacetGrid at 0x27a00b281c0>"
      ]
     },
     "execution_count": 42,
     "metadata": {},
     "output_type": "execute_result"
    },
    {
     "data": {
      "image/png": "[encoded data removed]",
      "text/plain": [
       "<Figure size 1080x360 with 1 Axes>"
      ]
     },
     "metadata": {
      "needs_background": "light"
     },
     "output_type": "display_data"
    }
   ],
   "source": [
    "sns.displot(df, x=\"redKDA\", y=\"teamWins\",aspect=3)"
   ]
  },
  {
   "cell_type": "markdown",
   "id": "historical-question",
   "metadata": {},
   "source": [
    "#### According to the plot, as a team's KDA goes higher, that team is more likely to win. But, there are times that a team losses with high KDA(In plots, there are lines for the opposite team when the team KDA is high). Generally speaking, looking at two darkest area, those teams who win the game usually have a KDA larger than 2, ortherwise, teams are more likely to lose."
   ]
  },
  {
   "cell_type": "markdown",
   "id": "conscious-badge",
   "metadata": {},
   "source": [
    " "
   ]
  },
  {
   "cell_type": "code",
   "execution_count": 45,
   "id": "operational-huntington",
   "metadata": {},
   "outputs": [
    {
     "data": {
      "text/plain": [
       "<seaborn.axisgrid.FacetGrid at 0x27a010251c0>"
      ]
     },
     "execution_count": 45,
     "metadata": {},
     "output_type": "execute_result"
    },
    {
     "data": {
      "image/png": "[encoded data removed]",
      "text/plain": [
       "<Figure size 1080x360 with 1 Axes>"
      ]
     },
     "metadata": {
      "needs_background": "light"
     },
     "output_type": "display_data"
    }
   ],
   "source": [
    "#We are using blue's-red's\n",
    "df5 = df.assign(dmgD= df['blueChampionDamageDealt']-df['redChampionDamageDealt'])\n",
    "sns.displot(df5, x=\"dmgD\", y=\"teamWins\",aspect=3)"
   ]
  },
  {
   "cell_type": "markdown",
   "id": "finnish-somalia",
   "metadata": {},
   "source": [
    "#### According to the plot, the team who wins usually has higher damage than the other team(dark area). But there are also many cases that a team wins without higher damage."
   ]
  },
  {
   "cell_type": "code",
   "execution_count": 47,
   "id": "continent-sender",
   "metadata": {},
   "outputs": [
    {
     "data": {
      "text/plain": [
       "<seaborn.axisgrid.FacetGrid at 0x27a018df280>"
      ]
     },
     "execution_count": 47,
     "metadata": {},
     "output_type": "execute_result"
    },
    {
     "data": {
      "image/png": "[encoded data removed]",
      "text/plain": [
       "<Figure size 1440x360 with 1 Axes>"
      ]
     },
     "metadata": {
      "needs_background": "light"
     },
     "output_type": "display_data"
    }
   ],
   "source": [
    "#We are using blue's-red's\n",
    "df6 = df.assign(healD= df['blueTotalHeal']-df['redTotalHeal'])\n",
    "sns.displot(df6, x=\"healD\", y=\"teamWins\",aspect=4)"
   ]
  },
  {
   "cell_type": "markdown",
   "id": "suspected-significance",
   "metadata": {},
   "source": [
    "#### According to the plot, the team who wins usually has higher heal than the other team(dark area). But there are also many cases that a team wins without higher heal. One interesting thing is that, compared with the graph of damage, heal's graph's dark areas are closer to 0, and we can make a guess that damage is more important than heal amount."
   ]
  },
  {
   "cell_type": "code",
   "execution_count": null,
   "id": "seventh-affect",
   "metadata": {},
   "outputs": [],
   "source": []
  }
 ],
 "metadata": {
  "kernelspec": {
   "display_name": "Python 3",
   "language": "python",
   "name": "python3"
  },
  "language_info": {
   "codemirror_mode": {
    "name": "ipython",
    "version": 3
   },
   "file_extension": ".py",
   "mimetype": "text/x-python",
   "name": "python",
   "nbconvert_exporter": "python",
   "pygments_lexer": "ipython3",
   "version": "3.8.5"
  }
 },
 "nbformat": 4,
 "nbformat_minor": 5
}
